{
 "cells": [
  {
   "cell_type": "code",
   "execution_count": 5,
   "metadata": {},
   "outputs": [
    {
     "name": "stdout",
     "output_type": "stream",
     "text": [
      "Using matplotlib backend: MacOSX\n",
      "Populating the interactive namespace from numpy and matplotlib\n"
     ]
    }
   ],
   "source": [
    "%pylab\n",
    "%matplotlib inline"
   ]
  },
  {
   "cell_type": "code",
   "execution_count": 6,
   "metadata": {},
   "outputs": [],
   "source": [
    "import os\n",
    "import numpy as np\n",
    "from sklearn.decomposition import PCA\n",
    "\n",
    "from modules.preprocessing import compute_integral, make_cube, get_pos_lattice\n",
    "from modules.preprocessing import atom_list"
   ]
  },
  {
   "cell_type": "code",
   "execution_count": 7,
   "metadata": {
    "scrolled": false
   },
   "outputs": [
    {
     "name": "stdout",
     "output_type": "stream",
     "text": [
      "0 / 2400\n",
      "100 / 2400\n",
      "200 / 2400\n",
      "300 / 2400\n",
      "400 / 2400\n",
      "500 / 2400\n",
      "600 / 2400\n",
      "700 / 2400\n",
      "800 / 2400\n",
      "900 / 2400\n",
      "1000 / 2400\n",
      "1100 / 2400\n",
      "1200 / 2400\n",
      "1300 / 2400\n",
      "1400 / 2400\n",
      "1500 / 2400\n",
      "1600 / 2400\n",
      "1700 / 2400\n",
      "1800 / 2400\n",
      "1900 / 2400\n",
      "2000 / 2400\n",
      "2100 / 2400\n",
      "2200 / 2400\n",
      "2300 / 2400\n",
      "0 / 600\n",
      "100 / 600\n",
      "200 / 600\n",
      "300 / 600\n",
      "400 / 600\n",
      "500 / 600\n"
     ]
    },
    {
     "name": "stderr",
     "output_type": "stream",
     "text": [
      "/Users/macbookpro/miniconda3/envs/py36/lib/python3.6/site-packages/ipykernel_launcher.py:34: FutureWarning: `rcond` parameter will change to the default of machine precision times ``max(M, N)`` where M and N are the input matrix dimensions.\n",
      "To use the future default and silence this warning we advise to pass `rcond=None`, to keep using the old, explicitly pass `rcond=-1`.\n"
     ]
    }
   ],
   "source": [
    "# First compute integral values\n",
    "compute_integral()\n",
    "\n",
    "# Now generate cubes\n",
    "cube_list = []\n",
    "\n",
    "# generate cubes from train\n",
    "for i in range(2400):\n",
    "    if i % 100 == 0:\n",
    "        print(i, '/', 2400)\n",
    "    filename = \"data/train/{}/geometry.xyz\".format(i+1)\n",
    "    cube = make_cube(filename)\n",
    "    \n",
    "    cube_list.append(cube)\n",
    "\n",
    "# generate cubes from test\n",
    "for i in range(600):\n",
    "    if i % 100 == 0:\n",
    "        print(i, '/', 600)    \n",
    "    filename = \"data/test/{}/geometry.xyz\".format(i+1)\n",
    "    cube = make_cube(filename)\n",
    "    \n",
    "    cube_list.append(cube)\n",
    "    \n",
    "# save cube\n",
    "cube = np.array(cube_list)\n",
    "np.save(\"data/cube.npy\", cube)\n",
    "\n",
    "# perform PCA, and keep only 100 principal components for SVR\n",
    "cube_vec = np.reshape(cube, (3000, -1))\n",
    "pca = PCA(n_components=100)\n",
    "pca.fit(cube_vec)\n",
    "\n",
    "cube_PCA = np.linalg.lstsq(pca.components_.transpose()[:,:100], (cube_vec-pca.mean_).transpose())\n",
    "np.save('data/cube_PCA.npy', cube_PCA[0])"
   ]
  },
  {
   "cell_type": "code",
   "execution_count": 30,
   "metadata": {},
   "outputs": [
    {
     "data": {
      "text/plain": [
       "<matplotlib.image.AxesImage at 0x117e406a0>"
      ]
     },
     "execution_count": 30,
     "metadata": {},
     "output_type": "execute_result"
    },
    {
     "data": {
      "image/png": "[encoded data removed]",
      "text/plain": [
       "<matplotlib.figure.Figure at 0x117d0b6a0>"
      ]
     },
     "metadata": {},
     "output_type": "display_data"
    }
   ],
   "source": [
    "## Visualize to check that everything is working\n",
    "\n",
    "# get pos_lattice for random train sample \n",
    "isample = np.random.randint(2400)\n",
    "filename = \"data/train/{}/geometry.xyz\".format(isample+1)\n",
    "pos_lattice = get_pos_lattice(filename)\n",
    "\n",
    "subplot(1, 2, 1)\n",
    "color = ['r', 'b', 'g', 'k']\n",
    "for iatom, atom in enumerate([atom_list[0]]):  # only check 1st atom\n",
    "    pos_list = pos_lattice[atom]\n",
    "    for pos in pos_list:\n",
    "        plot(pos[0], pos[1], 'o'+color[iatom])  # project on x, y (equivalent to summing on z)\n",
    "xlim([0,1])\n",
    "ylim([0,1])\n",
    "\n",
    "subplot(1, 2, 2)\n",
    "cube = np.load(\"data/cube.npy\")\n",
    "imshow( cube[isample, :, :, :, 0].sum(2).transpose()[::-1, :]  )  # only check 1st atom (sum on z and correct image orientation)"
   ]
  },
  {
   "cell_type": "code",
   "execution_count": null,
   "metadata": {},
   "outputs": [],
   "source": []
  }
 ],
 "metadata": {
  "kernelspec": {
   "display_name": "Python 3",
   "language": "python",
   "name": "python3"
  },
  "language_info": {
   "codemirror_mode": {
    "name": "ipython",
    "version": 3
   },
   "file_extension": ".py",
   "mimetype": "text/x-python",
   "name": "python",
   "nbconvert_exporter": "python",
   "pygments_lexer": "ipython3",
   "version": "3.6.4"
  }
 },
 "nbformat": 4,
 "nbformat_minor": 1
}
